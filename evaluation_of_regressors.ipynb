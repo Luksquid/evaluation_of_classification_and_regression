{
 "cells": [
  {
   "cell_type": "code",
   "execution_count": 4,
   "metadata": {},
   "outputs": [],
   "source": [
    "from sklearn.datasets import load_diabetes\n",
    "from sklearn.model_selection import train_test_split\n",
    "\n",
    "diabetes = load_diabetes()\n",
    "\n",
    "tts = train_test_split(diabetes.data,\n",
    "                       diabetes.target,\n",
    "                       test_size=0.25,\n",
    "                       random_state=42)\n",
    "\n",
    "(train_features, test_features,\n",
    " train_target, test_target) = tts\n"
   ]
  },
  {
   "cell_type": "code",
   "execution_count": 15,
   "metadata": {},
   "outputs": [
    {
     "data": {
      "text/plain": [
       "array([-65.03, -66.69, -60.27, -67.87, -61.66])"
      ]
     },
     "execution_count": 15,
     "metadata": {},
     "output_type": "execute_result"
    }
   ],
   "source": [
    "from sklearn.neighbors import KNeighborsRegressor\n",
    "from sklearn.model_selection import cross_val_score\n",
    "from sklearn.model_selection import KFold\n",
    "from sklearn.metrics import mean_squared_error\n",
    "import numpy as np\n",
    "\n",
    "def rms_error(actual, predicted):\n",
    "    ' Funkcja do obliczania RMSE '\n",
    "    # Mniejsze wartości są lepsze (a < b oznacza, że a jest lepsze)\n",
    "    mse = mean_squared_error(actual, predicted)    \n",
    "    return np.sqrt(mse)\n",
    "\n",
    "def neg_rmse_score(actual, predicted):\n",
    "    ' Funkcja do obliczania wyniku oparta na RMSE '\n",
    "    # Wyższe wartości są lepsze (a < b oznacza, że b jest lepsze)\n",
    "    return -rms_error(actual, predicted)\n",
    "\n",
    "def neg_rmse_scorer(mod, ftrs, tgt_actual):\n",
    "    ' Oparta na RMSE funkcja oceniająca odpowiednia jako argument scoring '\n",
    "    tgt_pred = mod.predict(ftrs)\n",
    "    predictions = neg_rmse_score(tgt_actual, tgt_pred)\n",
    "    return np.round(predictions, 2)\n",
    "\n",
    "\n",
    "knn = KNeighborsRegressor(n_neighbors=3)\n",
    "\n",
    "cross_val_score(knn,\n",
    "                diabetes.data, diabetes.target,\n",
    "                cv=KFold(5, shuffle=True),\n",
    "                scoring=neg_rmse_scorer)"
   ]
  },
  {
   "cell_type": "code",
   "execution_count": 12,
   "metadata": {},
   "outputs": [
    {
     "name": "stdout",
     "output_type": "stream",
     "text": [
      "63.91063787024346\n"
     ]
    }
   ],
   "source": [
    "from sklearn.model_selection import cross_val_predict\n",
    "from sklearn.preprocessing import StandardScaler\n",
    "from sklearn.pipeline import make_pipeline\n",
    "from sklearn.neighbors import KNeighborsRegressor\n",
    "from sklearn.datasets import load_diabetes\n",
    "from sklearn.metrics import mean_squared_error\n",
    "import numpy as np\n",
    "\n",
    "diabetes = load_diabetes()\n",
    "\n",
    "\n",
    "\n",
    "scaler = StandardScaler()\n",
    "knn = KNeighborsRegressor(n_neighbors=3)\n",
    "std_knn3_pipe = make_pipeline(scaler, knn)\n",
    "results = cross_val_predict(std_knn3_pipe, diabetes.data, diabetes.target, cv=10)\n",
    "rms = np.sqrt(mean_squared_error(diabetes.target, results))\n",
    "print(rms)"
   ]
  },
  {
   "cell_type": "code",
   "execution_count": 18,
   "metadata": {},
   "outputs": [
    {
     "data": {
      "text/plain": [
       "64.54381383141148"
      ]
     },
     "execution_count": 18,
     "metadata": {},
     "output_type": "execute_result"
    }
   ],
   "source": [
    "from sklearn.datasets import load_diabetes\n",
    "from sklearn.model_selection import train_test_split\n",
    "from sklearn.neighbors import KNeighborsRegressor\n",
    "from sklearn.metrics import mean_squared_error\n",
    "\n",
    "diabetes = load_diabetes()\n",
    "\n",
    "knn = KNeighborsRegressor(n_neighbors=3)\n",
    "\n",
    "(train_features, test_features,\n",
    " train_target, test_target) = train_test_split(diabetes.data,\n",
    "                                                 diabetes.target,\n",
    "                                                 test_size = 0.25)\n",
    " \n",
    "predictions = (knn.fit(train_features, train_target).predict(test_features))\n",
    "rmse = mean_squared_error(test_target, predictions)\n",
    "np.sqrt(rmse)"
   ]
  },
  {
   "cell_type": "code",
   "execution_count": 19,
   "metadata": {},
   "outputs": [
    {
     "data": {
      "text/plain": [
       "52.92887260524534"
      ]
     },
     "execution_count": 19,
     "metadata": {},
     "output_type": "execute_result"
    }
   ],
   "source": [
    "from sklearn.datasets import load_diabetes\n",
    "from sklearn.model_selection import train_test_split\n",
    "from sklearn.linear_model import LinearRegression\n",
    "from sklearn.metrics import mean_squared_error\n",
    "\n",
    "diabetes = load_diabetes()\n",
    "\n",
    "lr = LinearRegression()\n",
    "\n",
    "(train_features, test_features,\n",
    " train_target, test_target) = train_test_split(diabetes.data,\n",
    "                                                 diabetes.target,\n",
    "                                                 test_size = 0.25)\n",
    " \n",
    "predictions = (lr.fit(train_features, train_target).predict(test_features))\n",
    "rmse = mean_squared_error(test_target, predictions)\n",
    "np.sqrt(rmse)"
   ]
  }
 ],
 "metadata": {
  "kernelspec": {
   "display_name": ".venv",
   "language": "python",
   "name": "python3"
  },
  "language_info": {
   "codemirror_mode": {
    "name": "ipython",
    "version": 3
   },
   "file_extension": ".py",
   "mimetype": "text/x-python",
   "name": "python",
   "nbconvert_exporter": "python",
   "pygments_lexer": "ipython3",
   "version": "3.11.2"
  }
 },
 "nbformat": 4,
 "nbformat_minor": 2
}
